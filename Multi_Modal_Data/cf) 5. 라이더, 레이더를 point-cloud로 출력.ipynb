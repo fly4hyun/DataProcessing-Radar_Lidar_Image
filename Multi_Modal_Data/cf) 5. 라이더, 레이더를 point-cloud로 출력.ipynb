{
 "cells": [
  {
   "cell_type": "code",
   "execution_count": 1,
   "id": "022a6d72",
   "metadata": {},
   "outputs": [],
   "source": [
    "## PCD dataset 읽기"
   ]
  },
  {
   "cell_type": "code",
   "execution_count": null,
   "id": "7a4a24a9",
   "metadata": {},
   "outputs": [],
   "source": []
  },
  {
   "cell_type": "code",
   "execution_count": 2,
   "id": "ebbdb78d",
   "metadata": {},
   "outputs": [],
   "source": [
    "import numpy as np "
   ]
  },
  {
   "cell_type": "code",
   "execution_count": 3,
   "id": "3cba760f",
   "metadata": {},
   "outputs": [],
   "source": [
    "## pip install open3d"
   ]
  },
  {
   "cell_type": "code",
   "execution_count": 4,
   "id": "ff2685ca",
   "metadata": {},
   "outputs": [
    {
     "name": "stdout",
     "output_type": "stream",
     "text": [
      "Jupyter environment detected. Enabling Open3D WebVisualizer.\n",
      "[Open3D INFO] WebRTC GUI backend enabled.\n",
      "[Open3D INFO] WebRTCWindowSystem: HTTP handshake server disabled.\n"
     ]
    }
   ],
   "source": [
    "import open3d as o3d"
   ]
  },
  {
   "cell_type": "code",
   "execution_count": 5,
   "id": "2f61acf8",
   "metadata": {},
   "outputs": [],
   "source": [
    "pcd_data = o3d.io.read_point_cloud('data/samples/RADAR_FRONT/n008-2018-08-01-15-16-36-0400__RADAR_FRONT__1533151603555991.pcd')"
   ]
  },
  {
   "cell_type": "code",
   "execution_count": 6,
   "id": "5ccce087",
   "metadata": {},
   "outputs": [],
   "source": [
    "# 데이터 확인"
   ]
  },
  {
   "cell_type": "code",
   "execution_count": 7,
   "id": "6b744ff7",
   "metadata": {},
   "outputs": [],
   "source": [
    "o3d.visualization.draw_geometries([pcd_data])"
   ]
  },
  {
   "cell_type": "code",
   "execution_count": null,
   "id": "7728db87",
   "metadata": {},
   "outputs": [],
   "source": []
  },
  {
   "cell_type": "code",
   "execution_count": 8,
   "id": "d17236df",
   "metadata": {},
   "outputs": [],
   "source": [
    "# 데이터 넘파이로 불려오기"
   ]
  },
  {
   "cell_type": "code",
   "execution_count": 9,
   "id": "8cb23e15",
   "metadata": {},
   "outputs": [],
   "source": [
    "np_point = np.asarray(pcd_data.points)"
   ]
  },
  {
   "cell_type": "code",
   "execution_count": null,
   "id": "d56de6ef",
   "metadata": {},
   "outputs": [],
   "source": []
  },
  {
   "cell_type": "code",
   "execution_count": 10,
   "id": "a549ee4e",
   "metadata": {},
   "outputs": [],
   "source": [
    "## bin 데이터 pcd로 변환"
   ]
  },
  {
   "cell_type": "code",
   "execution_count": 11,
   "id": "8f7f0f97",
   "metadata": {},
   "outputs": [],
   "source": [
    "bin_pcd = np.fromfile(\"data/samples/LIDAR_TOP/n008-2018-08-27-11-48-51-0400__LIDAR_TOP__1535385097901019.pcd.bin\", dtype=np.float32)"
   ]
  },
  {
   "cell_type": "code",
   "execution_count": 12,
   "id": "2b07e039",
   "metadata": {},
   "outputs": [],
   "source": [
    "points = bin_pcd.reshape((-1, 5))[:, 0:3]"
   ]
  },
  {
   "cell_type": "code",
   "execution_count": 13,
   "id": "93ea6870",
   "metadata": {},
   "outputs": [],
   "source": [
    "o3d_pcd = o3d.geometry.PointCloud(o3d.utility.Vector3dVector(points))"
   ]
  },
  {
   "cell_type": "code",
   "execution_count": null,
   "id": "d6298fbe",
   "metadata": {},
   "outputs": [],
   "source": [
    "o3d.visualization.draw_geometries([o3d_pcd])"
   ]
  },
  {
   "cell_type": "code",
   "execution_count": null,
   "id": "8378dcef",
   "metadata": {},
   "outputs": [],
   "source": []
  }
 ],
 "metadata": {
  "kernelspec": {
   "display_name": "Python 3 (ipykernel)",
   "language": "python",
   "name": "python3"
  },
  "language_info": {
   "codemirror_mode": {
    "name": "ipython",
    "version": 3
   },
   "file_extension": ".py",
   "mimetype": "text/x-python",
   "name": "python",
   "nbconvert_exporter": "python",
   "pygments_lexer": "ipython3",
   "version": "3.9.12"
  }
 },
 "nbformat": 4,
 "nbformat_minor": 5
}
