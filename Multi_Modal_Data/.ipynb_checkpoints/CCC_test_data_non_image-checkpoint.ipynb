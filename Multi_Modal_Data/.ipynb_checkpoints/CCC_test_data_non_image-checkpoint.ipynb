{
 "cells": [
  {
   "cell_type": "code",
   "execution_count": 1,
   "id": "27e66d02",
   "metadata": {},
   "outputs": [],
   "source": [
    "########## 데이터셋 생성 ##########"
   ]
  },
  {
   "cell_type": "code",
   "execution_count": null,
   "id": "2148c363",
   "metadata": {},
   "outputs": [],
   "source": []
  },
  {
   "cell_type": "code",
   "execution_count": 2,
   "id": "25b6e5ba",
   "metadata": {},
   "outputs": [],
   "source": [
    "##### 라이브러리 호출 #####"
   ]
  },
  {
   "cell_type": "code",
   "execution_count": 3,
   "id": "2bc8f42b",
   "metadata": {},
   "outputs": [],
   "source": [
    "## 데이터셋 생성하기 위한 라이브러리 호출"
   ]
  },
  {
   "cell_type": "code",
   "execution_count": 4,
   "id": "8c6c541a",
   "metadata": {},
   "outputs": [],
   "source": [
    "import torch\n",
    "import torchvision\n",
    "import torch.nn.functional as F\n",
    "from torch.utils.data import Dataset\n",
    "from torch.utils.data import DataLoader"
   ]
  },
  {
   "cell_type": "code",
   "execution_count": 5,
   "id": "3e103522",
   "metadata": {},
   "outputs": [],
   "source": [
    "## nuscenes dataset을 불려오기 위한 라이브러리 호출"
   ]
  },
  {
   "cell_type": "code",
   "execution_count": 6,
   "id": "63e68731",
   "metadata": {},
   "outputs": [
    {
     "name": "stdout",
     "output_type": "stream",
     "text": [
      "Jupyter environment detected. Enabling Open3D WebVisualizer.\n",
      "[Open3D INFO] WebRTC GUI backend enabled.\n",
      "[Open3D INFO] WebRTCWindowSystem: HTTP handshake server disabled.\n"
     ]
    }
   ],
   "source": [
    "from nuscenes import NuScenes\n",
    "import numpy as np\n",
    "import open3d as o3d"
   ]
  },
  {
   "cell_type": "code",
   "execution_count": 7,
   "id": "73cbd020",
   "metadata": {},
   "outputs": [],
   "source": [
    "import struct\n",
    "from pyquaternion import Quaternion\n",
    "import random\n",
    "import datetime"
   ]
  },
  {
   "cell_type": "code",
   "execution_count": null,
   "id": "db8f3524",
   "metadata": {},
   "outputs": [],
   "source": []
  },
  {
   "cell_type": "code",
   "execution_count": 8,
   "id": "94b42376",
   "metadata": {},
   "outputs": [],
   "source": [
    "##### nuscenes dataset 불려오기 #####"
   ]
  },
  {
   "cell_type": "code",
   "execution_count": 9,
   "id": "16cc66cd",
   "metadata": {},
   "outputs": [],
   "source": [
    "## 기본 세팅 ##"
   ]
  },
  {
   "cell_type": "code",
   "execution_count": 10,
   "id": "ddd40c19",
   "metadata": {},
   "outputs": [],
   "source": [
    "# version 및 데이터파일 위치\n",
    "nuscenes_version = 'v1.0-mini'\n",
    "nuscenes_dataroot = 'data/'"
   ]
  },
  {
   "cell_type": "code",
   "execution_count": 11,
   "id": "a353327f",
   "metadata": {},
   "outputs": [
    {
     "name": "stdout",
     "output_type": "stream",
     "text": [
      "======\n",
      "Loading NuScenes tables for version v1.0-mini...\n",
      "Loading nuScenes-lidarseg...\n",
      "32 category,\n",
      "8 attribute,\n",
      "4 visibility,\n",
      "911 instance,\n",
      "12 sensor,\n",
      "120 calibrated_sensor,\n",
      "31206 ego_pose,\n",
      "8 log,\n",
      "10 scene,\n",
      "404 sample,\n",
      "31206 sample_data,\n",
      "18538 sample_annotation,\n",
      "4 map,\n",
      "404 lidarseg,\n",
      "Done loading in 0.608 seconds.\n",
      "======\n",
      "Reverse indexing ...\n",
      "Done reverse indexing in 0.1 seconds.\n",
      "======\n"
     ]
    }
   ],
   "source": [
    "nusc = NuScenes(version = nuscenes_version, dataroot = nuscenes_dataroot, verbose=True)"
   ]
  },
  {
   "cell_type": "code",
   "execution_count": null,
   "id": "a538e8dd",
   "metadata": {},
   "outputs": [],
   "source": []
  },
  {
   "cell_type": "code",
   "execution_count": 12,
   "id": "29f202dd",
   "metadata": {},
   "outputs": [],
   "source": [
    "##### 사용될 함수 생성 #####"
   ]
  },
  {
   "cell_type": "code",
   "execution_count": null,
   "id": "18d63ed4",
   "metadata": {},
   "outputs": [],
   "source": []
  },
  {
   "cell_type": "code",
   "execution_count": 13,
   "id": "7510c55e",
   "metadata": {},
   "outputs": [],
   "source": [
    "## radar pcd 파일 입력시 데이터 출력 함수 ##"
   ]
  },
  {
   "cell_type": "code",
   "execution_count": 14,
   "id": "347bb71b",
   "metadata": {},
   "outputs": [],
   "source": [
    "## 원본 코드 참조\n",
    "def radar_pcd_to_data(file_path):\n",
    "    meta = []\n",
    "    with open(file_path, 'rb') as f:\n",
    "        for line in f:\n",
    "            line = line.strip().decode('utf-8')\n",
    "            meta.append(line)\n",
    "            if line.startswith('DATA'):\n",
    "                break\n",
    "        data_binary = f.read()\n",
    "    \"\"\"\n",
    "    meta : \n",
    "    \n",
    "    ['# .PCD v0.7 - Point Cloud Data file format',\n",
    "     'VERSION 0.7',\n",
    "     'FIELDS x y z dyn_prop id rcs vx vy vx_comp vy_comp is_quality_valid ambig_state x_rms y_rms invalid_state pdh0 vx_rms vy_rms',\n",
    "     'SIZE 4 4 4 1 2 4 4 4 4 4 1 1 1 1 1 1 1 1',\n",
    "     'TYPE F F F I I F F F F F I I I I I I I I',\n",
    "     'COUNT 1 1 1 1 1 1 1 1 1 1 1 1 1 1 1 1 1 1',\n",
    "     'WIDTH 125',\n",
    "     'HEIGHT 1',\n",
    "     'VIEWPOINT 0 0 0 1 0 0 0',\n",
    "     'POINTS 125',\n",
    "     'DATA binary']\n",
    "     \"\"\"\n",
    "    \n",
    "    invalid_states = [0]  # type: List[int]\n",
    "    dynprop_states = range(7)  # type: List[int] # Use [0, 2, 6] for moving objects only.\n",
    "    ambig_states = [3]  # type: List[int]\n",
    "    \n",
    "    assert meta[0].startswith('#'), 'First line must be comment'\n",
    "    assert meta[1].startswith('VERSION'), 'Second line must be VERSION'\n",
    "    sizes = meta[3].split(' ')[1:]\n",
    "    types = meta[4].split(' ')[1:]\n",
    "    counts = meta[5].split(' ')[1:]\n",
    "    width = int(meta[6].split(' ')[1])\n",
    "    height = int(meta[7].split(' ')[1])\n",
    "    data = meta[10].split(' ')[1]\n",
    "    feature_count = len(types)\n",
    "    assert width > 0\n",
    "    assert len([c for c in counts if c != c]) == 0, 'Error: COUNT not supported!'\n",
    "    assert height == 1, 'Error: height != 0 not supported!'\n",
    "    assert data == 'binary'\n",
    "    \n",
    "    unpacking_lut = {'F': {2: 'e', 4: 'f', 8: 'd'}, 'I': {1: 'b', 2: 'h', 4: 'i', 8: 'q'}, 'U': {1: 'B', 2: 'H', 4: 'I', 8: 'Q'}}\n",
    "    types_str = ''.join([unpacking_lut[t][int(s)] for t, s in zip(types, sizes)])\n",
    "    \n",
    "    offset = 0\n",
    "    point_count = width\n",
    "    points_data = []\n",
    "    for i in range(point_count):\n",
    "        point_data = []\n",
    "        for p in range(feature_count):\n",
    "            start_p = offset\n",
    "            end_p = start_p + int(sizes[p])\n",
    "            assert end_p < len(data_binary)\n",
    "            point_p = struct.unpack(types_str[p], data_binary[start_p:end_p])[0]\n",
    "            point_data.append(point_p)\n",
    "            offset = end_p\n",
    "        points_data.append(point_data)\n",
    "        \n",
    "    point_data = np.array(points_data[0])\n",
    "    points_data = np.array(points_data).transpose()\n",
    "    \n",
    "    invalid_states = cls.invalid_states if invalid_states is None else invalid_states\n",
    "    dynprop_states = cls.dynprop_states if dynprop_states is None else dynprop_states\n",
    "    ambig_states = cls.ambig_states if ambig_states is None else ambig_states\n",
    "    \n",
    "    valid = [p in invalid_states for p in points_data[-4, :]]\n",
    "    points_data = points_data[:, valid]\n",
    "    \n",
    "    valid = [p in dynprop_states for p in points_data[3, :]]\n",
    "    points_data = points_data[:, valid]\n",
    "    \n",
    "    valid = [p in ambig_states for p in points_data[11, :]]\n",
    "    points_data = points_data[:, valid]\n",
    "    \n",
    "    \"\"\"\n",
    "    0 : x --> 1\n",
    "    1 : y --> 2\n",
    "    2 : z \n",
    "    3 : dyn_prop --> 7\n",
    "    4 : id \n",
    "    5 : rcs --> 5\n",
    "    6 : vx \n",
    "    7 : vy \n",
    "    8 : vx_comp --> 3\n",
    "    9 : vy_comp --> 4\n",
    "    10: is_quality_valid \n",
    "    11: ambig_state \n",
    "    12: x_rms \n",
    "    13: y_rms \n",
    "    14: invalid_state --> 8\n",
    "    15: pdh0 --> 6\n",
    "    16: vx_rms \n",
    "    17: vy_rms\n",
    "            + t --> 9\n",
    "    \"\"\"\n",
    "    return points_data"
   ]
  },
  {
   "cell_type": "code",
   "execution_count": null,
   "id": "d31baf3c",
   "metadata": {},
   "outputs": [],
   "source": []
  },
  {
   "cell_type": "code",
   "execution_count": 15,
   "id": "7bb96d4e",
   "metadata": {},
   "outputs": [],
   "source": [
    "## 글로벌 좌표로 매핑시켜주는 함수 ##"
   ]
  },
  {
   "cell_type": "code",
   "execution_count": 16,
   "id": "1db462ff",
   "metadata": {},
   "outputs": [],
   "source": [
    "## 레이더의 경우 속도는 [8:10, :], 위치는 [:2, :] 사용\n",
    "def static_to_global(points_data, global_cal_sensor, local_cal_sensor):\n",
    "    global_data = np.vstack((points_data, np.zeros(points_data.shape[1])))\n",
    "    global_data = np.dot(Quaternion(local_cal_sensor['rotation']).rotation_matrix, global_data)\n",
    "    global_data = np.dot(Quaternion(global_cal_sensor['rotation']).rotation_matrix.T, global_data)\n",
    "    global_data[2, :] = np.zeros(points_data.shape[1])\n",
    "    \n",
    "    return global_data"
   ]
  },
  {
   "cell_type": "code",
   "execution_count": null,
   "id": "804a6b7a",
   "metadata": {},
   "outputs": [],
   "source": []
  },
  {
   "cell_type": "code",
   "execution_count": 17,
   "id": "7bb2ab5d",
   "metadata": {},
   "outputs": [],
   "source": [
    "## 글로벌 좌표로 ann 매핑 함수 ##"
   ]
  },
  {
   "cell_type": "code",
   "execution_count": 18,
   "id": "43ad981e",
   "metadata": {},
   "outputs": [],
   "source": [
    "def one_anns_data_to_box(sample, sample_annotation):\n",
    "    \n",
    "    lidar_token = sample['data']['LIDAR_TOP']\n",
    "    lidar_sample_data = nusc.get('sample_data', lidar_token)\n",
    "    lidar_cal_sample = lidar_sample_data['calibrated_sensor_token']\n",
    "    lidar_cal = nusc.get('calibrated_sensor', lidar_cal_sample)\n",
    "    \n",
    "    ego_token = lidar_sample_data['ego_pose_token']\n",
    "    ego_data = nusc.get('ego_pose', ego_token)\n",
    "    \n",
    "    center = sample_annotation['translation']\n",
    "    size = sample_annotation['size']\n",
    "    \n",
    "    yaw = Quaternion(ego_data['rotation']).yaw_pitch_roll[0]\n",
    "    center = center - np.array(ego_data['translation'])\n",
    "    center = np.dot(Quaternion(scalar=np.cos(yaw / 2), vector=[0, 0, np.sin(yaw / 2)]).inverse.rotation_matrix, center)\n",
    "    #center = np.dot(Quaternion(lidar_cal['rotation']).inverse.rotation_matrix, center)\n",
    "    #center = np.dot(Quaternion(ego_data['rotation']).rotation_matrix.T, center)\n",
    "    center = np.dot(Quaternion(axis = [0, 0, 1], degrees = -90).rotation_matrix.T, center)\n",
    "    \n",
    "    \n",
    "    w = size[0]\n",
    "    l = size[1]\n",
    "    h = size[2]\n",
    "    \n",
    "    x_corners = l / 2 * np.array([1,  1,  1,  1, -1, -1, -1, -1])\n",
    "    y_corners = w / 2 * np.array([1, -1, -1,  1,  1, -1, -1,  1])\n",
    "    z_corners = h / 2 * np.array([1,  1, -1, -1,  1,  1, -1, -1])\n",
    "    \n",
    "    corners = np.vstack((x_corners, y_corners, z_corners))\n",
    "    \n",
    "    \n",
    "    #corners = np.dot(Quaternion(scalar=np.cos(yaw / 2), vector=[0, 0, np.sin(yaw / 2)]).inverse.rotation_matrix, corners)\n",
    "    \n",
    "    corners = np.dot(Quaternion(ego_data['rotation']).inverse.rotation_matrix, corners)\n",
    "    corners = np.dot(Quaternion(sample_annotation['rotation']).inverse.rotation_matrix, corners)\n",
    "    #corners = np.dot(Quaternion(axis = [0, 0, 1], degrees = 60).rotation_matrix.T, corners)\n",
    "    \n",
    "    x = center[0]\n",
    "    y = center[1]\n",
    "    z = center[2]\n",
    "    \n",
    "    corners[0, :] = corners[0, :] + x\n",
    "    corners[1, :] = corners[1, :] + y\n",
    "    corners[2, :] = corners[2, :] + z\n",
    "    \n",
    "    return corners[:2, [2, 3, 7, 6]]"
   ]
  },
  {
   "cell_type": "code",
   "execution_count": null,
   "id": "36dc7b6d",
   "metadata": {},
   "outputs": [],
   "source": []
  },
  {
   "cell_type": "code",
   "execution_count": 19,
   "id": "16986e74",
   "metadata": {},
   "outputs": [],
   "source": [
    "## 샘플의 모든 anns을 글로벌 좌표로 매핑하는 함수 ##"
   ]
  },
  {
   "cell_type": "code",
   "execution_count": 20,
   "id": "989e2fc5",
   "metadata": {},
   "outputs": [],
   "source": [
    "def sample_anns_to_global(sample):\n",
    "    anns_token = sample['anns']\n",
    "    boxes = []\n",
    "    for i in range(len(anns_token)):\n",
    "        box = one_anns_data_to_box(sample, nusc.get('sample_annotation', anns_token[i]))\n",
    "        boxes = boxes + [box.tolist()]\n",
    "        \n",
    "    return boxes"
   ]
  },
  {
   "cell_type": "code",
   "execution_count": null,
   "id": "3f9ab88d",
   "metadata": {},
   "outputs": [],
   "source": []
  },
  {
   "cell_type": "code",
   "execution_count": 21,
   "id": "17f903e9",
   "metadata": {},
   "outputs": [],
   "source": [
    "## 레이다 데이터 입력시 박스안에 있는지 판단하는 함수 ##"
   ]
  },
  {
   "cell_type": "code",
   "execution_count": 22,
   "id": "a3da4d25",
   "metadata": {},
   "outputs": [],
   "source": [
    "def one_radar_data_labeling(pos_data, boxes):\n",
    "    an = [1, 0]\n",
    "    for i in range(len(boxes)):\n",
    "        if an == [0, 1]:\n",
    "            return an\n",
    "        \n",
    "        x_dis = max(boxes[i][0]) - min(boxes[i][0])\n",
    "        y_dis = max(boxes[i][1]) - min(boxes[i][1])\n",
    "        \n",
    "        x_max = max(boxes[i][0]) + x_dis * 0.2\n",
    "        x_min = min(boxes[i][0]) - x_dis * 0.2\n",
    "        y_max = max(boxes[i][1]) + y_dis * 0.2\n",
    "        y_min = min(boxes[i][1]) - y_dis * 0.2\n",
    "        \n",
    "        if pos_data[0] < x_max and pos_data[0] > x_min and pos_data[1] < y_max and pos_data[1] > y_min:\n",
    "            an = [0, 1]\n",
    "            return an\n",
    "    return an"
   ]
  },
  {
   "cell_type": "code",
   "execution_count": null,
   "id": "2d3df186",
   "metadata": {},
   "outputs": [],
   "source": []
  },
  {
   "cell_type": "code",
   "execution_count": 23,
   "id": "0586a6a2",
   "metadata": {},
   "outputs": [],
   "source": [
    "## 토큰 및 센서 입력 시 데이터 출력 함수 - 레이더 ##"
   ]
  },
  {
   "cell_type": "code",
   "execution_count": 24,
   "id": "1e652453",
   "metadata": {},
   "outputs": [],
   "source": [
    "def radar_only_one_sensor_to_data(sample, sensor, t):\n",
    "    \"\"\"\n",
    "    sensor : \n",
    "    \n",
    "    RADAR_FRONT\n",
    "    RADAR_FRONT_LEFT\n",
    "    RADAR_FRONT_RIGHT\n",
    "    RADAR_BACK_LEFT\n",
    "    RADAR_BACK_RIGHT\n",
    "    LIDAR_TOP\n",
    "    CAM_FRONT\n",
    "    CAM_FRONT_RIGHT\n",
    "    CAM_BACK_RIGHT\n",
    "    CAM_BACK\n",
    "    CAM_BACK_LEFT\n",
    "    CAM_FRONT_LEFT\n",
    "    \"\"\"\n",
    "    sensor_token = sample['data'][sensor]\n",
    "    sensor_data = nusc.get('sample_data', sensor_token)\n",
    "    file_path = 'data/' + sensor_data['filename']\n",
    "    sensor_cal_token = sensor_data['calibrated_sensor_token']\n",
    "    seneor_cal = nusc.get('calibrated_sensor', sensor_cal_token)\n",
    "    \n",
    "    global_seneor_token = sample['data']['LIDAR_TOP']\n",
    "    global_seneor = nusc.get('sample_data', global_seneor_token)\n",
    "    global_cal_token = global_seneor['calibrated_sensor_token']\n",
    "    global_cal = nusc.get('calibrated_sensor', global_cal_token)\n",
    "    \n",
    "    points_data = radar_pcd_to_data(file_path)\n",
    "    pos_data = points_data[:2, :]\n",
    "    pos_data = static_to_global(pos_data, global_cal, seneor_cal)\n",
    "    vel_data = points_data[8:10, :]\n",
    "    vel_data = static_to_global(vel_data, global_cal, seneor_cal)\n",
    "    \n",
    "    num_data = len(points_data[0])\n",
    "    \n",
    "    boxes = sample_anns_to_global(sample)\n",
    "    \n",
    "    radar_data_set = []\n",
    "    num_i = 0\n",
    "    for i in range(num_data):\n",
    "        \n",
    "        label = one_radar_data_labeling(pos_data[:2, i], boxes)\n",
    "        \n",
    "        if points_data[15, i] > 3:\n",
    "            break\n",
    "        if points_data[14, i] in [1, 2, 3, 5, 6, 7, 15, 16]:\n",
    "            break\n",
    "        \n",
    "        radar_data_set.append([])\n",
    "        radar_data_set[num_i].append(pos_data[0, i])  # x\n",
    "        radar_data_set[num_i].append(pos_data[1, i])  # y\n",
    "        radar_data_set[num_i].append(vel_data[0, i])  # vx\n",
    "        radar_data_set[num_i].append(vel_data[1, i])  # vy\n",
    "        radar_data_set[num_i].append(points_data[5, i])  # rcs\n",
    "        radar_data_set[num_i].append(points_data[15, i])  # pdh0\n",
    "        radar_data_set[num_i].append(points_data[3, i])  # dyn_prop\n",
    "        radar_data_set[num_i].append(points_data[14, i])  # invalid_state\n",
    "        radar_data_set[num_i].append(t)  # t\n",
    "        radar_data_set[num_i].append(label)\n",
    "        \n",
    "        num_i = num_i + 1\n",
    "        \n",
    "    return radar_data_set"
   ]
  },
  {
   "cell_type": "code",
   "execution_count": null,
   "id": "078609c3",
   "metadata": {},
   "outputs": [],
   "source": []
  },
  {
   "cell_type": "code",
   "execution_count": 25,
   "id": "cbc67054",
   "metadata": {},
   "outputs": [],
   "source": [
    "## 토큰 입력 시 모든 센서 데이터 출력 함수 - 레이더 ##"
   ]
  },
  {
   "cell_type": "code",
   "execution_count": 26,
   "id": "f5ed9437",
   "metadata": {},
   "outputs": [],
   "source": [
    "def radar_sensor_to_data(sample, t):\n",
    "    \n",
    "    radar_RADAR_FRONT_data_set = radar_only_one_sensor_to_data(sample, 'RADAR_FRONT', t)\n",
    "    radar_RADAR_FRONT_LEFT_data_set = radar_only_one_sensor_to_data(sample, 'RADAR_FRONT_LEFT', t)\n",
    "    radar_RADAR_FRONT_RIGHT_data_set = radar_only_one_sensor_to_data(sample, 'RADAR_FRONT_RIGHT', t)\n",
    "    radar_RADAR_BACK_LEFT_data_set = radar_only_one_sensor_to_data(sample, 'RADAR_BACK_LEFT', t)\n",
    "    radar_RADAR_BACK_RIGHT_data_set = radar_only_one_sensor_to_data(sample, 'RADAR_BACK_RIGHT', t)\n",
    "    \n",
    "    radar_data_set = radar_RADAR_FRONT_data_set + radar_RADAR_FRONT_LEFT_data_set + radar_RADAR_FRONT_RIGHT_data_set + radar_RADAR_BACK_LEFT_data_set + radar_RADAR_BACK_RIGHT_data_set\n",
    "    \n",
    "    return radar_data_set"
   ]
  },
  {
   "cell_type": "code",
   "execution_count": null,
   "id": "3b21f629",
   "metadata": {},
   "outputs": [],
   "source": []
  },
  {
   "cell_type": "code",
   "execution_count": 27,
   "id": "4e003000",
   "metadata": {},
   "outputs": [],
   "source": [
    "## 토큰 및 센서 입력 시 데이터 출력 함수 - 라이다 ##"
   ]
  },
  {
   "cell_type": "code",
   "execution_count": 28,
   "id": "ebbef308",
   "metadata": {},
   "outputs": [],
   "source": [
    "def lidar_sensor_to_data(sample, t):\n",
    "    \"\"\"\n",
    "    sensor : \n",
    "    \n",
    "    LIDAR_TOP\n",
    "    \"\"\"\n",
    "    sensor_token = sample['data']['LIDAR_TOP']\n",
    "    sensor_data = nusc.get('sample_data', sensor_token)\n",
    "    file_path = 'data/' + sensor_data['filename']\n",
    "    \n",
    "    lidar_bin = np.fromfile(file_path, dtype = np.float32)\n",
    "    lidar_data_set = lidar_bin.reshape((-1, 5))\n",
    "    \n",
    "    lidar_data_set = lidar_data_set.tolist()\n",
    "    \n",
    "    for i in range(len(lidar_data_set)):\n",
    "        lidar_data_set[i][4] = t\n",
    "        \n",
    "    return lidar_data_set"
   ]
  },
  {
   "cell_type": "code",
   "execution_count": null,
   "id": "7d65c882",
   "metadata": {},
   "outputs": [],
   "source": []
  },
  {
   "cell_type": "code",
   "execution_count": 29,
   "id": "08a1ce55",
   "metadata": {},
   "outputs": [],
   "source": [
    "## 샘플 입력시 레이더 및 라이다 데이터 출력 ##"
   ]
  },
  {
   "cell_type": "code",
   "execution_count": 30,
   "id": "6008cd03",
   "metadata": {},
   "outputs": [],
   "source": [
    "def sample_to_data_radar_lidar(sample):\n",
    "    time = 0\n",
    "    past_sample_token = sample['prev']\n",
    "    while past_sample_token != '':\n",
    "        time = time + 1\n",
    "        \n",
    "        past_sample = nusc.get('sample', past_sample_token)\n",
    "        past_sample_token = past_sample['prev']\n",
    "    \n",
    "    if time < 4:\n",
    "        return [], []\n",
    "    \n",
    "    radar_dataset = []\n",
    "    lidar_dataset = []\n",
    "    \n",
    "    past_sample_token = sample['prev']\n",
    "    now_sample = sample\n",
    "    \n",
    "    for i in range(5):\n",
    "        lidar_dataset = lidar_dataset + lidar_sensor_to_data(sample, time * 0.25)\n",
    "        if i < 3:\n",
    "            \n",
    "            radar_dataset = radar_dataset + radar_sensor_to_data(sample, time * 0.25)\n",
    "        \n",
    "        if i == 4:\n",
    "            break\n",
    "        now_sample = nusc.get('sample', past_sample_token)\n",
    "        past_sample_token = now_sample['prev']\n",
    "        time = time - 1\n",
    "    \n",
    "    return radar_dataset, lidar_dataset"
   ]
  },
  {
   "cell_type": "code",
   "execution_count": null,
   "id": "4be59666",
   "metadata": {},
   "outputs": [],
   "source": []
  },
  {
   "cell_type": "code",
   "execution_count": 31,
   "id": "34a4e345",
   "metadata": {},
   "outputs": [],
   "source": [
    "## 하나의 레이더 포인터와 가까운 라이다 포인터 찾기 ##"
   ]
  },
  {
   "cell_type": "code",
   "execution_count": 32,
   "id": "b8bf17b6",
   "metadata": {},
   "outputs": [],
   "source": [
    "def nearnest_lidar_points(radar_point, lidar_dataset):\n",
    "    distance_data = []\n",
    "    \n",
    "    for i in range(len(lidar_dataset)):\n",
    "        dis = (radar_point[0] - lidar_dataset[i][0]) ** 2 + (radar_point[1] - lidar_dataset[i][1]) ** 2 + (0 - lidar_dataset[i][2]) ** 2\n",
    "        distance_data.append([i, dis])\n",
    "    \n",
    "    for i in range(15):\n",
    "        for j in range(len(lidar_dataset) - 1):\n",
    "            if distance_data[i][1] > distance_data[j][1]:\n",
    "                temp = distance_data[j][1]\n",
    "                distance_data[j][1] = distance_data[i][1]\n",
    "                distance_data[i][1] = temp\n",
    "    \n",
    "    nearnest_lider_dataset = []\n",
    "    for i in range(15):\n",
    "        nearnest_lider_dataset = nearnest_lider_dataset + [lidar_dataset[distance_data[i][0]]]\n",
    "        \n",
    "    return nearnest_lider_dataset"
   ]
  },
  {
   "cell_type": "code",
   "execution_count": null,
   "id": "c8aa8d71",
   "metadata": {},
   "outputs": [],
   "source": []
  },
  {
   "cell_type": "code",
   "execution_count": 33,
   "id": "67a8d208",
   "metadata": {},
   "outputs": [],
   "source": [
    "## 1000개 레이더 데이터 생성 ##"
   ]
  },
  {
   "cell_type": "code",
   "execution_count": 34,
   "id": "686aa474",
   "metadata": {},
   "outputs": [],
   "source": [
    "def radar_data_n_to_1000(radar_dataset, mid_lidar_data):\n",
    "    \n",
    "    ok_data_num = 0\n",
    "    not_data_num = 0\n",
    "    \n",
    "    ok_data_list = []\n",
    "    not_data_list = []\n",
    "    \n",
    "    while len(radar_dataset) < 1000:\n",
    "        for i in range(len(radar_dataset)):\n",
    "            if radar_dataset[i][-1] == [1, 0]:\n",
    "                not_data_num = not_data_num + 1\n",
    "                not_data_list.append(i)\n",
    "            else:\n",
    "                ok_data_num = ok_data_num + 1\n",
    "                ok_data_list.append(i)\n",
    "                \n",
    "        choice_num = random.randrange(len(radar_dataset))\n",
    "        if not_data_num < ok_data_num * 1.2:\n",
    "            choice_num = random.choice(not_data_list)\n",
    "        else:\n",
    "            choice_num = random.choice(ok_data_list)\n",
    "\n",
    "        radar_dataset = radar_dataset + [radar_dataset[choice_num]]\n",
    "        mid_lidar_data = mid_lidar_data + [mid_lidar_data[choice_num]]\n",
    "        \n",
    "        \n",
    "        \n",
    "    return radar_dataset, mid_lidar_data"
   ]
  },
  {
   "cell_type": "code",
   "execution_count": null,
   "id": "c088e40b",
   "metadata": {},
   "outputs": [],
   "source": []
  },
  {
   "cell_type": "code",
   "execution_count": 35,
   "id": "bdc5155e",
   "metadata": {},
   "outputs": [],
   "source": [
    "## 최종 레이더, 라이다 데이터셋 생성 ##"
   ]
  },
  {
   "cell_type": "code",
   "execution_count": 36,
   "id": "4042717b",
   "metadata": {},
   "outputs": [],
   "source": [
    "def final_lidar_dataset(radar_dataset, lidar_dataset):\n",
    "    mid_lidar_data = []\n",
    "    for i in range(len(radar_dataset)):\n",
    "        mid_lidar_data = mid_lidar_data + [nearnest_lidar_points(radar_dataset[i], lidar_dataset)]\n",
    "    \n",
    "    radar_dataset, mid_lidar_data = radar_data_n_to_1000(radar_dataset, mid_lidar_data)\n",
    "    \n",
    "    final_lidar_data = []\n",
    "    for i in range(len(mid_lidar_data)):\n",
    "        final_lidar_data = final_lidar_data + mid_lidar_data[i]\n",
    "    \n",
    "    for i in range(1000):\n",
    "        choice_num = random.randrange(len(lidar_dataset))\n",
    "        final_lidar_data = final_lidar_data + [lidar_dataset[choice_num]]\n",
    "    \n",
    "    return radar_dataset, [final_lidar_data]"
   ]
  },
  {
   "cell_type": "code",
   "execution_count": null,
   "id": "075a84b4",
   "metadata": {},
   "outputs": [],
   "source": []
  },
  {
   "cell_type": "code",
   "execution_count": 37,
   "id": "be94a588",
   "metadata": {},
   "outputs": [],
   "source": [
    "## 레이더 데이터셋에서 라벨과 데이터 분리하기 ##"
   ]
  },
  {
   "cell_type": "code",
   "execution_count": 38,
   "id": "a2d9a3d1",
   "metadata": {},
   "outputs": [],
   "source": [
    "def radar_data_and_labal(radar_dataset):\n",
    "    final_radar_data = []\n",
    "    final_label_data = []\n",
    "    for i in range(len(radar_dataset)):\n",
    "        final_radar_data = final_radar_data + [radar_dataset[i][:-1]]\n",
    "        final_label_data = final_label_data + radar_dataset[i][-1:]\n",
    "        \n",
    "    return [final_radar_data], final_label_data"
   ]
  },
  {
   "cell_type": "code",
   "execution_count": null,
   "id": "333a731a",
   "metadata": {},
   "outputs": [],
   "source": []
  },
  {
   "cell_type": "code",
   "execution_count": null,
   "id": "6c22b958",
   "metadata": {},
   "outputs": [],
   "source": []
  },
  {
   "cell_type": "code",
   "execution_count": 39,
   "id": "f6e42e00",
   "metadata": {},
   "outputs": [],
   "source": [
    "##### 데이터생성 함수 정의 #####"
   ]
  },
  {
   "cell_type": "code",
   "execution_count": 40,
   "id": "3bc7a73b",
   "metadata": {},
   "outputs": [],
   "source": [
    "class CustomDataset(Dataset): \n",
    "    def __init__(self):\n",
    "        self.radar_data_pos = []\n",
    "        self.radar_data_feat = []\n",
    "        self.lidar_data_pos = []\n",
    "        self.lidar_data_feat = []\n",
    "        self.label_data = []\n",
    "        \n",
    "        start = datetime.datetime.now()\n",
    "        for i in range(1):len(nusc.scene)):\n",
    "            \n",
    "            my_scene = nusc.scene[i]\n",
    "            next_token = my_scene['first_sample_token']\n",
    "            sample_nbr = my_scene['nbr_samples']\n",
    "            now_sample_nbr = 4\n",
    "            while next_token != '':\n",
    "                \n",
    "                now_sample = nusc.get('sample', next_token)\n",
    "                next_token = now_sample['next']\n",
    "                \n",
    "                if now_sample_nbr > 19:\n",
    "                    break\n",
    "                \n",
    "                now_radar_data, now_lidar_data = sample_to_data_radar_lidar(now_sample)\n",
    "                if now_radar_data== []:\n",
    "                    continue\n",
    "                    \n",
    "                mid_radar_data, final_lidar_data = final_lidar_dataset(now_radar_data, now_lidar_data)\n",
    "                final_radar_data, final_label = radar_data_and_labal(mid_radar_data)\n",
    "                \n",
    "                self.radar_data_pos = self.radar_data_pos + (np.array(final_radar_data)[:, :, :2]).tolist()\n",
    "                self.radar_data_feat = self.radar_data_feat + (np.array(final_radar_data)[:, :, 2:]).tolist()\n",
    "                self.lidar_data_pos = self.lidar_data_pos + (np.array(final_lidar_data)[:, :, :3]).tolist()\n",
    "                self.lidar_data_feat = self.lidar_data_feat + (np.array(final_lidar_data)[:, :, 3:]).tolist()\n",
    "                self.label_data = self.label_data + [final_label]\n",
    "                now_sample_nbr = now_sample_nbr + 1\n",
    "                \n",
    "                \n",
    "            end = datetime.datetime.now()\n",
    "            print(\"{:4d}/{:4d} scene, sample {:3d}/{:3d}\".format(i + 1, len(nusc.scene), now_sample_nbr + 1, sample_nbr))\n",
    "            print(\"time : {} / {}\".format(end - start, (end - start) * len(nusc.scene) / (i + 1) * (sample_nbr - 4) / (now_sample_nbr - 3)))\n",
    "            \n",
    "            \n",
    "            \n",
    "  # 총 데이터의 개수를 리턴\n",
    "    def __len__(self): \n",
    "        return len(self.radar_data)\n",
    "\n",
    "  # 인덱스를 입력받아 그에 맵핑되는 입출력 데이터를 파이토치의 Tensor 형태로 리턴\n",
    "    def __getitem__(self, idx): \n",
    "        radar_pos = torch.FloatTensor(self.radar_data_pos[idx])\n",
    "        radar_fea = torch.FloatTensor(self.radar_data_feat[idx])\n",
    "        lidar_pos = torch.FloatTensor(self.lidar_data_pos[idx])\n",
    "        lidar_fea = torch.FloatTensor(self.lidar_data_feat[idx])\n",
    "        label = torch.FloatTensor(self.label_data[idx])\n",
    "        return radar_pos, radar_fea, lidar_pos, lidar_fea, label"
   ]
  },
  {
   "cell_type": "code",
   "execution_count": 41,
   "id": "077bffe6",
   "metadata": {},
   "outputs": [],
   "source": [
    "## 데이터셋 생성 ##"
   ]
  },
  {
   "cell_type": "code",
   "execution_count": 42,
   "id": "74f5e20e",
   "metadata": {},
   "outputs": [
    {
     "ename": "KeyboardInterrupt",
     "evalue": "",
     "output_type": "error",
     "traceback": [
      "\u001b[1;31m---------------------------------------------------------------------------\u001b[0m",
      "\u001b[1;31mKeyboardInterrupt\u001b[0m                         Traceback (most recent call last)",
      "\u001b[1;32m<ipython-input-42-ec28515693e1>\u001b[0m in \u001b[0;36m<module>\u001b[1;34m\u001b[0m\n\u001b[1;32m----> 1\u001b[1;33m \u001b[0mdataset\u001b[0m \u001b[1;33m=\u001b[0m \u001b[0mCustomDataset\u001b[0m\u001b[1;33m(\u001b[0m\u001b[1;33m)\u001b[0m\u001b[1;33m\u001b[0m\u001b[1;33m\u001b[0m\u001b[0m\n\u001b[0m",
      "\u001b[1;32m<ipython-input-40-78fdfcb57452>\u001b[0m in \u001b[0;36m__init__\u001b[1;34m(self)\u001b[0m\n\u001b[0;32m     26\u001b[0m                     \u001b[1;32mcontinue\u001b[0m\u001b[1;33m\u001b[0m\u001b[1;33m\u001b[0m\u001b[0m\n\u001b[0;32m     27\u001b[0m \u001b[1;33m\u001b[0m\u001b[0m\n\u001b[1;32m---> 28\u001b[1;33m                 \u001b[0mmid_radar_data\u001b[0m\u001b[1;33m,\u001b[0m \u001b[0mfinal_lidar_data\u001b[0m \u001b[1;33m=\u001b[0m \u001b[0mfinal_lidar_dataset\u001b[0m\u001b[1;33m(\u001b[0m\u001b[0mnow_radar_data\u001b[0m\u001b[1;33m,\u001b[0m \u001b[0mnow_lidar_data\u001b[0m\u001b[1;33m)\u001b[0m\u001b[1;33m\u001b[0m\u001b[1;33m\u001b[0m\u001b[0m\n\u001b[0m\u001b[0;32m     29\u001b[0m                 \u001b[0mfinal_radar_data\u001b[0m\u001b[1;33m,\u001b[0m \u001b[0mfinal_label\u001b[0m \u001b[1;33m=\u001b[0m \u001b[0mradar_data_and_labal\u001b[0m\u001b[1;33m(\u001b[0m\u001b[0mmid_radar_data\u001b[0m\u001b[1;33m)\u001b[0m\u001b[1;33m\u001b[0m\u001b[1;33m\u001b[0m\u001b[0m\n\u001b[0;32m     30\u001b[0m \u001b[1;33m\u001b[0m\u001b[0m\n",
      "\u001b[1;32m<ipython-input-36-49a12e633a25>\u001b[0m in \u001b[0;36mfinal_lidar_dataset\u001b[1;34m(radar_dataset, lidar_dataset)\u001b[0m\n\u001b[0;32m      2\u001b[0m     \u001b[0mmid_lidar_data\u001b[0m \u001b[1;33m=\u001b[0m \u001b[1;33m[\u001b[0m\u001b[1;33m]\u001b[0m\u001b[1;33m\u001b[0m\u001b[1;33m\u001b[0m\u001b[0m\n\u001b[0;32m      3\u001b[0m     \u001b[1;32mfor\u001b[0m \u001b[0mi\u001b[0m \u001b[1;32min\u001b[0m \u001b[0mrange\u001b[0m\u001b[1;33m(\u001b[0m\u001b[0mlen\u001b[0m\u001b[1;33m(\u001b[0m\u001b[0mradar_dataset\u001b[0m\u001b[1;33m)\u001b[0m\u001b[1;33m)\u001b[0m\u001b[1;33m:\u001b[0m\u001b[1;33m\u001b[0m\u001b[1;33m\u001b[0m\u001b[0m\n\u001b[1;32m----> 4\u001b[1;33m         \u001b[0mmid_lidar_data\u001b[0m \u001b[1;33m=\u001b[0m \u001b[0mmid_lidar_data\u001b[0m \u001b[1;33m+\u001b[0m \u001b[1;33m[\u001b[0m\u001b[0mnearnest_lidar_points\u001b[0m\u001b[1;33m(\u001b[0m\u001b[0mradar_dataset\u001b[0m\u001b[1;33m[\u001b[0m\u001b[0mi\u001b[0m\u001b[1;33m]\u001b[0m\u001b[1;33m,\u001b[0m \u001b[0mlidar_dataset\u001b[0m\u001b[1;33m)\u001b[0m\u001b[1;33m]\u001b[0m\u001b[1;33m\u001b[0m\u001b[1;33m\u001b[0m\u001b[0m\n\u001b[0m\u001b[0;32m      5\u001b[0m \u001b[1;33m\u001b[0m\u001b[0m\n\u001b[0;32m      6\u001b[0m     \u001b[0mradar_dataset\u001b[0m\u001b[1;33m,\u001b[0m \u001b[0mmid_lidar_data\u001b[0m \u001b[1;33m=\u001b[0m \u001b[0mradar_data_n_to_1000\u001b[0m\u001b[1;33m(\u001b[0m\u001b[0mradar_dataset\u001b[0m\u001b[1;33m,\u001b[0m \u001b[0mmid_lidar_data\u001b[0m\u001b[1;33m)\u001b[0m\u001b[1;33m\u001b[0m\u001b[1;33m\u001b[0m\u001b[0m\n",
      "\u001b[1;32m<ipython-input-32-08f83e94199f>\u001b[0m in \u001b[0;36mnearnest_lidar_points\u001b[1;34m(radar_point, lidar_dataset)\u001b[0m\n\u001b[0;32m      3\u001b[0m \u001b[1;33m\u001b[0m\u001b[0m\n\u001b[0;32m      4\u001b[0m     \u001b[1;32mfor\u001b[0m \u001b[0mi\u001b[0m \u001b[1;32min\u001b[0m \u001b[0mrange\u001b[0m\u001b[1;33m(\u001b[0m\u001b[0mlen\u001b[0m\u001b[1;33m(\u001b[0m\u001b[0mlidar_dataset\u001b[0m\u001b[1;33m)\u001b[0m\u001b[1;33m)\u001b[0m\u001b[1;33m:\u001b[0m\u001b[1;33m\u001b[0m\u001b[1;33m\u001b[0m\u001b[0m\n\u001b[1;32m----> 5\u001b[1;33m         \u001b[0mdis\u001b[0m \u001b[1;33m=\u001b[0m \u001b[1;33m(\u001b[0m\u001b[0mradar_point\u001b[0m\u001b[1;33m[\u001b[0m\u001b[1;36m0\u001b[0m\u001b[1;33m]\u001b[0m \u001b[1;33m-\u001b[0m \u001b[0mlidar_dataset\u001b[0m\u001b[1;33m[\u001b[0m\u001b[0mi\u001b[0m\u001b[1;33m]\u001b[0m\u001b[1;33m[\u001b[0m\u001b[1;36m0\u001b[0m\u001b[1;33m]\u001b[0m\u001b[1;33m)\u001b[0m \u001b[1;33m**\u001b[0m \u001b[1;36m2\u001b[0m \u001b[1;33m+\u001b[0m \u001b[1;33m(\u001b[0m\u001b[0mradar_point\u001b[0m\u001b[1;33m[\u001b[0m\u001b[1;36m1\u001b[0m\u001b[1;33m]\u001b[0m \u001b[1;33m-\u001b[0m \u001b[0mlidar_dataset\u001b[0m\u001b[1;33m[\u001b[0m\u001b[0mi\u001b[0m\u001b[1;33m]\u001b[0m\u001b[1;33m[\u001b[0m\u001b[1;36m1\u001b[0m\u001b[1;33m]\u001b[0m\u001b[1;33m)\u001b[0m \u001b[1;33m**\u001b[0m \u001b[1;36m2\u001b[0m \u001b[1;33m+\u001b[0m \u001b[1;33m(\u001b[0m\u001b[1;36m0\u001b[0m \u001b[1;33m-\u001b[0m \u001b[0mlidar_dataset\u001b[0m\u001b[1;33m[\u001b[0m\u001b[0mi\u001b[0m\u001b[1;33m]\u001b[0m\u001b[1;33m[\u001b[0m\u001b[1;36m2\u001b[0m\u001b[1;33m]\u001b[0m\u001b[1;33m)\u001b[0m \u001b[1;33m**\u001b[0m \u001b[1;36m2\u001b[0m\u001b[1;33m\u001b[0m\u001b[1;33m\u001b[0m\u001b[0m\n\u001b[0m\u001b[0;32m      6\u001b[0m         \u001b[0mdistance_data\u001b[0m\u001b[1;33m.\u001b[0m\u001b[0mappend\u001b[0m\u001b[1;33m(\u001b[0m\u001b[1;33m[\u001b[0m\u001b[0mi\u001b[0m\u001b[1;33m,\u001b[0m \u001b[0mdis\u001b[0m\u001b[1;33m]\u001b[0m\u001b[1;33m)\u001b[0m\u001b[1;33m\u001b[0m\u001b[1;33m\u001b[0m\u001b[0m\n\u001b[0;32m      7\u001b[0m \u001b[1;33m\u001b[0m\u001b[0m\n",
      "\u001b[1;31mKeyboardInterrupt\u001b[0m: "
     ]
    }
   ],
   "source": [
    "dataset = CustomDataset()"
   ]
  },
  {
   "cell_type": "code",
   "execution_count": null,
   "id": "3aeb6764",
   "metadata": {},
   "outputs": [],
   "source": [
    "## 데이터셋 저장 ##"
   ]
  },
  {
   "cell_type": "code",
   "execution_count": null,
   "id": "4500bfd9",
   "metadata": {},
   "outputs": [],
   "source": [
    "name = 'traindata/training_dataset_non_image_one.pt'\n",
    "torch.save(dataset, name)"
   ]
  },
  {
   "cell_type": "code",
   "execution_count": null,
   "id": "850a5c2d",
   "metadata": {},
   "outputs": [],
   "source": []
  },
  {
   "cell_type": "code",
   "execution_count": null,
   "id": "89c9c7c0",
   "metadata": {},
   "outputs": [],
   "source": []
  },
  {
   "cell_type": "code",
   "execution_count": null,
   "id": "7643321d",
   "metadata": {},
   "outputs": [],
   "source": []
  },
  {
   "cell_type": "code",
   "execution_count": null,
   "id": "1f5b8aee",
   "metadata": {},
   "outputs": [],
   "source": []
  },
  {
   "cell_type": "code",
   "execution_count": null,
   "id": "c3f85380",
   "metadata": {},
   "outputs": [],
   "source": []
  }
 ],
 "metadata": {
  "kernelspec": {
   "display_name": "Python 3",
   "language": "python",
   "name": "python3"
  },
  "language_info": {
   "codemirror_mode": {
    "name": "ipython",
    "version": 3
   },
   "file_extension": ".py",
   "mimetype": "text/x-python",
   "name": "python",
   "nbconvert_exporter": "python",
   "pygments_lexer": "ipython3",
   "version": "3.8.10"
  }
 },
 "nbformat": 4,
 "nbformat_minor": 5
}
